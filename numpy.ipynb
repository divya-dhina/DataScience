{
  "nbformat": 4,
  "nbformat_minor": 0,
  "metadata": {
    "colab": {
      "provenance": [],
      "authorship_tag": "ABX9TyP/Q+Oax1tIJVUyw/0EMN5n",
      "include_colab_link": true
    },
    "kernelspec": {
      "name": "python3",
      "display_name": "Python 3"
    },
    "language_info": {
      "name": "python"
    }
  },
  "cells": [
    {
      "cell_type": "markdown",
      "metadata": {
        "id": "view-in-github",
        "colab_type": "text"
      },
      "source": [
        "<a href=\"https://colab.research.google.com/github/divya-dhina/DataScience/blob/main/numpy.ipynb\" target=\"_parent\"><img src=\"https://colab.research.google.com/assets/colab-badge.svg\" alt=\"Open In Colab\"/></a>"
      ]
    },
    {
      "cell_type": "code",
      "execution_count": null,
      "metadata": {
        "id": "tXy9BSv-5zYQ",
        "colab": {
          "base_uri": "https://localhost:8080/"
        },
        "outputId": "6977a9cd-2f1a-4cc8-fa45-89d60fbdd666"
      },
      "outputs": [
        {
          "output_type": "stream",
          "name": "stdout",
          "text": [
            "[1 2 3 4 5]\n"
          ]
        }
      ],
      "source": [
        "import numpy as np\n",
        "a=np.array((1,2,3,4,5))\n",
        "print(a)"
      ]
    },
    {
      "cell_type": "code",
      "source": [
        "b=np.zeros(10)\n",
        "print(b)\n",
        "c=np.ones(10)\n",
        "print(c)"
      ],
      "metadata": {
        "colab": {
          "base_uri": "https://localhost:8080/"
        },
        "id": "7d68rRplapkK",
        "outputId": "0396b6fc-face-492e-83a8-2f2e52acfcd3"
      },
      "execution_count": null,
      "outputs": [
        {
          "output_type": "stream",
          "name": "stdout",
          "text": [
            "[0. 0. 0. 0. 0. 0. 0. 0. 0. 0.]\n",
            "[1. 1. 1. 1. 1. 1. 1. 1. 1. 1.]\n"
          ]
        }
      ]
    },
    {
      "cell_type": "code",
      "source": [
        "#values in a range(start,stop,step)\n",
        "d=np.arange(1,10,2)\n",
        "print(d)"
      ],
      "metadata": {
        "colab": {
          "base_uri": "https://localhost:8080/"
        },
        "id": "Q_nPli0Pa1If",
        "outputId": "591850ec-c07d-4830-d837-65873f758612"
      },
      "execution_count": null,
      "outputs": [
        {
          "output_type": "stream",
          "name": "stdout",
          "text": [
            "[1 3 5 7 9]\n"
          ]
        }
      ]
    },
    {
      "cell_type": "code",
      "source": [
        "#evenly space values linspace(start,stop,nof terms)\n",
        "f=np.linspace(1,10,3)\n",
        "print(f)"
      ],
      "metadata": {
        "colab": {
          "base_uri": "https://localhost:8080/"
        },
        "id": "eZvHWxZObtWv",
        "outputId": "d08efcdc-5f29-468c-c4e1-858e0b422bb5"
      },
      "execution_count": null,
      "outputs": [
        {
          "output_type": "stream",
          "name": "stdout",
          "text": [
            "[ 1.   5.5 10. ]\n"
          ]
        }
      ]
    },
    {
      "cell_type": "code",
      "source": [
        "#identity matrix\n",
        "e=np.eye(3,3)\n",
        "print(e)"
      ],
      "metadata": {
        "colab": {
          "base_uri": "https://localhost:8080/"
        },
        "id": "lrMujuQqbOza",
        "outputId": "bdbfdc63-a727-4de4-d8f0-43d1d1d798c3"
      },
      "execution_count": null,
      "outputs": [
        {
          "output_type": "stream",
          "name": "stdout",
          "text": [
            "[[1. 0. 0.]\n",
            " [0. 1. 0.]\n",
            " [0. 0. 1.]]\n"
          ]
        }
      ]
    },
    {
      "cell_type": "code",
      "source": [
        "print(e.shape)#dimensions\n",
        "print(e.ndim)#no of dimensions\n",
        "print(e.size)#no of elements\n",
        "print(e.dtype)#datatype of element"
      ],
      "metadata": {
        "colab": {
          "base_uri": "https://localhost:8080/"
        },
        "id": "DvHP26z5cKNk",
        "outputId": "be33bedc-7afc-46f9-b100-024fff48fc4b"
      },
      "execution_count": null,
      "outputs": [
        {
          "output_type": "stream",
          "name": "stdout",
          "text": [
            "(3, 3)\n",
            "2\n",
            "9\n",
            "float64\n"
          ]
        }
      ]
    },
    {
      "cell_type": "code",
      "source": [
        "print(np.add(b,c))\n",
        "print(np.subtract(b,c))"
      ],
      "metadata": {
        "colab": {
          "base_uri": "https://localhost:8080/"
        },
        "id": "-mxDwd4gcv3y",
        "outputId": "ad545683-65d9-42bb-d018-11cebbac004e"
      },
      "execution_count": null,
      "outputs": [
        {
          "output_type": "stream",
          "name": "stdout",
          "text": [
            "[1. 1. 1. 1. 1. 1. 1. 1. 1. 1.]\n",
            "[-1. -1. -1. -1. -1. -1. -1. -1. -1. -1.]\n"
          ]
        }
      ]
    },
    {
      "cell_type": "code",
      "source": [
        "print(np.multiply(a,d))\n",
        "print(np.divide(a,d))"
      ],
      "metadata": {
        "colab": {
          "base_uri": "https://localhost:8080/"
        },
        "id": "BRdcP4sldem5",
        "outputId": "f7e6f934-5f46-4ddb-fec2-bec13e40f4ca"
      },
      "execution_count": null,
      "outputs": [
        {
          "output_type": "stream",
          "name": "stdout",
          "text": [
            "[ 1  6 15 28 45]\n",
            "[1.         0.66666667 0.6        0.57142857 0.55555556]\n"
          ]
        }
      ]
    },
    {
      "cell_type": "code",
      "source": [
        "print(np.dot(f,e))"
      ],
      "metadata": {
        "colab": {
          "base_uri": "https://localhost:8080/"
        },
        "id": "haggQIubeBCV",
        "outputId": "78e63fc5-f440-48e5-ca67-58d0b834df51"
      },
      "execution_count": null,
      "outputs": [
        {
          "output_type": "stream",
          "name": "stdout",
          "text": [
            "[ 1.   5.5 10. ]\n"
          ]
        }
      ]
    },
    {
      "cell_type": "code",
      "source": [
        "g=[[1,2],[3,4],[5,6]]\n",
        "print(g)\n",
        "i=np.reshape(g,(2,3))#reshape(arr,(row,col))\n",
        "print(i)"
      ],
      "metadata": {
        "colab": {
          "base_uri": "https://localhost:8080/"
        },
        "id": "mP0KDr3jeJw4",
        "outputId": "ce0cb502-29fc-4bde-ab58-6ffe89c1f4ba"
      },
      "execution_count": null,
      "outputs": [
        {
          "output_type": "stream",
          "name": "stdout",
          "text": [
            "[[1, 2], [3, 4], [5, 6]]\n",
            "[[1 2 3]\n",
            " [4 5 6]]\n"
          ]
        }
      ]
    },
    {
      "cell_type": "code",
      "source": [
        "h=[[6,7,8],[8,9,7]]\n",
        "print(np.concatenate((i,h)))#rows appended\n",
        "print(np.concatenate((i,h),axis=1))#columns appended"
      ],
      "metadata": {
        "colab": {
          "base_uri": "https://localhost:8080/"
        },
        "id": "lPhMRA1HerRf",
        "outputId": "f718296c-897c-4b97-c1f3-601112e121e0"
      },
      "execution_count": null,
      "outputs": [
        {
          "output_type": "stream",
          "name": "stdout",
          "text": [
            "[[1 2 3]\n",
            " [4 5 6]\n",
            " [6 7 8]\n",
            " [8 9 7]]\n",
            "[[1 2 3 6 7 8]\n",
            " [4 5 6 8 9 7]]\n"
          ]
        }
      ]
    },
    {
      "cell_type": "code",
      "source": [
        "np.split(c,5)#split c into 5 parts along row"
      ],
      "metadata": {
        "colab": {
          "base_uri": "https://localhost:8080/"
        },
        "id": "ofoXfF4NhAiy",
        "outputId": "1e649752-234e-4254-dba7-cba68b04c1c1"
      },
      "execution_count": null,
      "outputs": [
        {
          "output_type": "execute_result",
          "data": {
            "text/plain": [
              "[array([1., 1.]),\n",
              " array([1., 1.]),\n",
              " array([1., 1.]),\n",
              " array([1., 1.]),\n",
              " array([1., 1.])]"
            ]
          },
          "metadata": {},
          "execution_count": 12
        }
      ]
    },
    {
      "cell_type": "code",
      "source": [
        "np.split(c,[2,3])#split c with index as :2,2:"
      ],
      "metadata": {
        "colab": {
          "base_uri": "https://localhost:8080/"
        },
        "id": "OBLU4OFYg9OC",
        "outputId": "5711be02-02ec-4146-b39d-ea00ed0fcedb"
      },
      "execution_count": null,
      "outputs": [
        {
          "output_type": "execute_result",
          "data": {
            "text/plain": [
              "[array([1., 1.]), array([1.]), array([1., 1., 1., 1., 1., 1., 1.])]"
            ]
          },
          "metadata": {},
          "execution_count": 13
        }
      ]
    },
    {
      "cell_type": "code",
      "source": [
        "j=np.reshape(c,(10,1))\n",
        "np.split(j,2,axis=1)"
      ],
      "metadata": {
        "colab": {
          "base_uri": "https://localhost:8080/",
          "height": 637
        },
        "id": "jiJlLeYljzpK",
        "outputId": "6d389e67-75ce-4f6b-b058-5414898c3d1d"
      },
      "execution_count": null,
      "outputs": [
        {
          "output_type": "error",
          "ename": "ValueError",
          "evalue": "ignored",
          "traceback": [
            "\u001b[0;31m---------------------------------------------------------------------------\u001b[0m",
            "\u001b[0;31mValueError\u001b[0m                                Traceback (most recent call last)",
            "\u001b[0;32m<ipython-input-14-08d896d159a6>\u001b[0m in \u001b[0;36m<cell line: 2>\u001b[0;34m()\u001b[0m\n\u001b[1;32m      1\u001b[0m \u001b[0mj\u001b[0m\u001b[0;34m=\u001b[0m\u001b[0mnp\u001b[0m\u001b[0;34m.\u001b[0m\u001b[0mreshape\u001b[0m\u001b[0;34m(\u001b[0m\u001b[0mc\u001b[0m\u001b[0;34m,\u001b[0m\u001b[0;34m(\u001b[0m\u001b[0;36m10\u001b[0m\u001b[0;34m,\u001b[0m\u001b[0;36m1\u001b[0m\u001b[0;34m)\u001b[0m\u001b[0;34m)\u001b[0m\u001b[0;34m\u001b[0m\u001b[0;34m\u001b[0m\u001b[0m\n\u001b[0;32m----> 2\u001b[0;31m \u001b[0mnp\u001b[0m\u001b[0;34m.\u001b[0m\u001b[0msplit\u001b[0m\u001b[0;34m(\u001b[0m\u001b[0mj\u001b[0m\u001b[0;34m,\u001b[0m\u001b[0;36m2\u001b[0m\u001b[0;34m,\u001b[0m\u001b[0maxis\u001b[0m\u001b[0;34m=\u001b[0m\u001b[0;36m1\u001b[0m\u001b[0;34m)\u001b[0m\u001b[0;34m\u001b[0m\u001b[0;34m\u001b[0m\u001b[0m\n\u001b[0m",
            "\u001b[0;32m/usr/local/lib/python3.10/dist-packages/numpy/core/overrides.py\u001b[0m in \u001b[0;36msplit\u001b[0;34m(*args, **kwargs)\u001b[0m\n",
            "\u001b[0;32m/usr/local/lib/python3.10/dist-packages/numpy/lib/shape_base.py\u001b[0m in \u001b[0;36msplit\u001b[0;34m(ary, indices_or_sections, axis)\u001b[0m\n\u001b[1;32m    870\u001b[0m         \u001b[0mN\u001b[0m \u001b[0;34m=\u001b[0m \u001b[0mary\u001b[0m\u001b[0;34m.\u001b[0m\u001b[0mshape\u001b[0m\u001b[0;34m[\u001b[0m\u001b[0maxis\u001b[0m\u001b[0;34m]\u001b[0m\u001b[0;34m\u001b[0m\u001b[0;34m\u001b[0m\u001b[0m\n\u001b[1;32m    871\u001b[0m         \u001b[0;32mif\u001b[0m \u001b[0mN\u001b[0m \u001b[0;34m%\u001b[0m \u001b[0msections\u001b[0m\u001b[0;34m:\u001b[0m\u001b[0;34m\u001b[0m\u001b[0;34m\u001b[0m\u001b[0m\n\u001b[0;32m--> 872\u001b[0;31m             raise ValueError(\n\u001b[0m\u001b[1;32m    873\u001b[0m                 'array split does not result in an equal division') from None\n\u001b[1;32m    874\u001b[0m     \u001b[0;32mreturn\u001b[0m \u001b[0marray_split\u001b[0m\u001b[0;34m(\u001b[0m\u001b[0mary\u001b[0m\u001b[0;34m,\u001b[0m \u001b[0mindices_or_sections\u001b[0m\u001b[0;34m,\u001b[0m \u001b[0maxis\u001b[0m\u001b[0;34m)\u001b[0m\u001b[0;34m\u001b[0m\u001b[0;34m\u001b[0m\u001b[0m\n",
            "\u001b[0;31mValueError\u001b[0m: array split does not result in an equal division"
          ]
        }
      ]
    },
    {
      "cell_type": "code",
      "source": [
        "k=[1,2,3,4]\n",
        "np.transpose(k)\n",
        "l=[[1,2],\n",
        "   [3,4]]\n",
        "print(l)\n",
        "np.transpose(l)"
      ],
      "metadata": {
        "colab": {
          "base_uri": "https://localhost:8080/"
        },
        "id": "paPU_4GGngvu",
        "outputId": "54a335b2-d809-46a3-a330-c6553079244d"
      },
      "execution_count": null,
      "outputs": [
        {
          "output_type": "stream",
          "name": "stdout",
          "text": [
            "[[1, 2], [3, 4]]\n"
          ]
        },
        {
          "output_type": "execute_result",
          "data": {
            "text/plain": [
              "array([[1, 3],\n",
              "       [2, 4]])"
            ]
          },
          "metadata": {},
          "execution_count": 19
        }
      ]
    },
    {
      "cell_type": "code",
      "source": [
        "m=[[1,2,3],[4,5,6],[7,8,9]]\n",
        "print(m)\n",
        "np.transpose(m)"
      ],
      "metadata": {
        "colab": {
          "base_uri": "https://localhost:8080/"
        },
        "id": "1iqz9I3Yo-jL",
        "outputId": "f7c025f8-ea86-4bfc-aa2f-e41d90bd3043"
      },
      "execution_count": null,
      "outputs": [
        {
          "output_type": "stream",
          "name": "stdout",
          "text": [
            "[[1, 2, 3], [4, 5, 6], [7, 8, 9]]\n"
          ]
        },
        {
          "output_type": "execute_result",
          "data": {
            "text/plain": [
              "array([[1, 4, 7],\n",
              "       [2, 5, 8],\n",
              "       [3, 6, 9]])"
            ]
          },
          "metadata": {},
          "execution_count": 20
        }
      ]
    },
    {
      "cell_type": "code",
      "source": [
        "np.random.shuffle(m)\n",
        "print(m)"
      ],
      "metadata": {
        "colab": {
          "base_uri": "https://localhost:8080/"
        },
        "id": "HQl-bFNQcjRK",
        "outputId": "b09fca83-66ca-432c-95ea-55a9f64319c4"
      },
      "execution_count": null,
      "outputs": [
        {
          "output_type": "stream",
          "name": "stdout",
          "text": [
            "[[1, 2, 3], [7, 8, 9], [4, 5, 6]]\n"
          ]
        }
      ]
    },
    {
      "cell_type": "code",
      "source": [
        "#mathematical functions\n",
        "print(np.sum(k))\n",
        "print(np.mean(k))\n",
        "print(np.median(k))\n",
        "print(np.std(k))\n",
        "print(np.min(k))\n",
        "print(np.max(k))"
      ],
      "metadata": {
        "colab": {
          "base_uri": "https://localhost:8080/"
        },
        "id": "sExIzd7lpp9u",
        "outputId": "36bec726-aa75-49e0-f4be-f30a51b140bf"
      },
      "execution_count": null,
      "outputs": [
        {
          "output_type": "stream",
          "name": "stdout",
          "text": [
            "10\n",
            "2.5\n",
            "2.5\n",
            "1.118033988749895\n",
            "1\n",
            "4\n"
          ]
        }
      ]
    },
    {
      "cell_type": "code",
      "source": [
        "n=np.random.rand(3,3)\n",
        "print(n)\n",
        "p=np.random.random((3,3))\n",
        "print(p)"
      ],
      "metadata": {
        "colab": {
          "base_uri": "https://localhost:8080/"
        },
        "id": "GGNu3-63qXww",
        "outputId": "bdeedb42-8dd4-4f4a-e7a0-00cc0613b4fe"
      },
      "execution_count": null,
      "outputs": [
        {
          "output_type": "stream",
          "name": "stdout",
          "text": [
            "[[0.69515926 0.96159816 0.6468565 ]\n",
            " [0.18867068 0.56220221 0.45850199]\n",
            " [0.8845974  0.37364829 0.24330119]]\n",
            "[[0.72687934 0.01038026 0.9248553 ]\n",
            " [0.5083203  0.1144672  0.31822476]\n",
            " [0.6651678  0.82733615 0.05638265]]\n"
          ]
        }
      ]
    },
    {
      "cell_type": "code",
      "source": [
        "np.sort(n)"
      ],
      "metadata": {
        "colab": {
          "base_uri": "https://localhost:8080/"
        },
        "id": "KHo2kjxLch-h",
        "outputId": "7c95c31d-2443-4b1b-8a25-0abe1848de96"
      },
      "execution_count": null,
      "outputs": [
        {
          "output_type": "execute_result",
          "data": {
            "text/plain": [
              "array([[0.6468565 , 0.69515926, 0.96159816],\n",
              "       [0.18867068, 0.45850199, 0.56220221],\n",
              "       [0.24330119, 0.37364829, 0.8845974 ]])"
            ]
          },
          "metadata": {},
          "execution_count": 25
        }
      ]
    },
    {
      "cell_type": "code",
      "source": [
        "print(np.sin(2*np.pi))\n",
        "print(np.sin(np.array([np.pi/2,np.pi/4,np.pi/6,np.pi/6])))"
      ],
      "metadata": {
        "id": "wiA4_w3CsTI4",
        "colab": {
          "base_uri": "https://localhost:8080/"
        },
        "outputId": "611cb8b9-fa94-4b03-da25-15c2a165785d"
      },
      "execution_count": null,
      "outputs": [
        {
          "output_type": "stream",
          "name": "stdout",
          "text": [
            "-2.4492935982947064e-16\n",
            "[1.         0.70710678 0.5        0.5       ]\n"
          ]
        }
      ]
    },
    {
      "cell_type": "code",
      "source": [
        "print(np.deg2rad(np.array([90,180,270,360])))"
      ],
      "metadata": {
        "colab": {
          "base_uri": "https://localhost:8080/"
        },
        "id": "AHlCHzrwY1g-",
        "outputId": "f8f03a58-82d5-4469-e61f-43f226bec2b5"
      },
      "execution_count": null,
      "outputs": [
        {
          "output_type": "stream",
          "name": "stdout",
          "text": [
            "[1.57079633 3.14159265 4.71238898 6.28318531]\n"
          ]
        }
      ]
    },
    {
      "cell_type": "code",
      "source": [
        "print(np.rad2deg(2*np.pi))"
      ],
      "metadata": {
        "colab": {
          "base_uri": "https://localhost:8080/"
        },
        "id": "NJSZtQHqZhwm",
        "outputId": "0002b5c9-e86d-456b-f993-7d953f444957"
      },
      "execution_count": null,
      "outputs": [
        {
          "output_type": "stream",
          "name": "stdout",
          "text": [
            "360.0\n"
          ]
        }
      ]
    },
    {
      "cell_type": "code",
      "source": [
        "print(np.cos(np.pi/2))\n",
        "print(np.tan(np.pi/4))"
      ],
      "metadata": {
        "colab": {
          "base_uri": "https://localhost:8080/"
        },
        "id": "h3YUvZREaQkF",
        "outputId": "e593c93f-ec39-412f-fca3-882749db21f0"
      },
      "execution_count": null,
      "outputs": [
        {
          "output_type": "stream",
          "name": "stdout",
          "text": [
            "6.123233995736766e-17\n",
            "0.9999999999999999\n"
          ]
        }
      ]
    },
    {
      "cell_type": "code",
      "source": [
        "#inverse trig func\n",
        "print(np.arcsin(1))\n",
        "print(np.rad2deg(np.arcsin(1)))#in degree\n",
        "print(np.arccos(1))\n",
        "print(np.arctan(0.999))"
      ],
      "metadata": {
        "colab": {
          "base_uri": "https://localhost:8080/"
        },
        "id": "t_hk45T0aYdL",
        "outputId": "ca561aac-4757-4c15-f839-31e877a92057"
      },
      "execution_count": null,
      "outputs": [
        {
          "output_type": "stream",
          "name": "stdout",
          "text": [
            "1.5707963267948966\n",
            "90.0\n",
            "0.0\n",
            "0.784897913314115\n"
          ]
        }
      ]
    },
    {
      "cell_type": "code",
      "source": [
        "w=[[1,0,0],[0,1,0],[0,0,1]]\n",
        "np.linalg.inv(w)"
      ],
      "metadata": {
        "colab": {
          "base_uri": "https://localhost:8080/"
        },
        "id": "KWlbvstQeeD1",
        "outputId": "174a8eeb-02dd-4513-c02e-8acc305f26e9"
      },
      "execution_count": null,
      "outputs": [
        {
          "output_type": "execute_result",
          "data": {
            "text/plain": [
              "array([[1., 0., 0.],\n",
              "       [0., 1., 0.],\n",
              "       [0., 0., 1.]])"
            ]
          },
          "metadata": {},
          "execution_count": 28
        }
      ]
    },
    {
      "cell_type": "code",
      "source": [
        "np.linalg.det(w)"
      ],
      "metadata": {
        "colab": {
          "base_uri": "https://localhost:8080/"
        },
        "id": "LK3oRH8KenMu",
        "outputId": "1bb1caee-b69a-4192-e8bb-01e615903e17"
      },
      "execution_count": null,
      "outputs": [
        {
          "output_type": "execute_result",
          "data": {
            "text/plain": [
              "1.0"
            ]
          },
          "metadata": {},
          "execution_count": 30
        }
      ]
    },
    {
      "cell_type": "code",
      "source": [
        "np.linalg.eig(w)#eigen values and eigen vectors"
      ],
      "metadata": {
        "colab": {
          "base_uri": "https://localhost:8080/"
        },
        "id": "FDmF5CVSeuU6",
        "outputId": "46e83754-4492-45d7-bb81-9b3e4c5e41ea"
      },
      "execution_count": null,
      "outputs": [
        {
          "output_type": "execute_result",
          "data": {
            "text/plain": [
              "(array([1., 1., 1.]),\n",
              " array([[1., 0., 0.],\n",
              "        [0., 1., 0.],\n",
              "        [0., 0., 1.]]))"
            ]
          },
          "metadata": {},
          "execution_count": 31
        }
      ]
    }
  ]
}